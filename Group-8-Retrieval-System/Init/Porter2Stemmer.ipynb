{
 "cells": [
  {
   "cell_type": "code",
   "execution_count": null,
   "metadata": {},
   "outputs": [],
   "source": [
    "# Nur benötigt für GoLab\n",
    "!pip3 install tira ir-datasets python-terrier nltk\n"
   ]
  },
  {
   "cell_type": "code",
   "execution_count": null,
   "metadata": {},
   "outputs": [],
   "source": [
    "# Imports\n",
    "from tira.third_party_integrations import ensure_pyterrier_is_loaded, persist_and_normalize_run\n",
    "from tira.rest_api_client import Client\n",
    "from nltk.stem import SnowballStemmer\n",
    "\n",
    "import pyterrier as pt\n",
    "import pandas as pd\n",
    "\n",
    "\n",
    "# PyTerrier initialisieren\n",
    "ensure_pyterrier_is_loaded()\n",
    "tira = Client()\n",
    "\n",
    "# PyTerrier starten\n",
    "if not pt.started():\n",
    "    pt.init()\n",
    "\n",
    "# NLTK SnowballStemmer initialisieren\n",
    "stemmer = SnowballStemmer(\"english\")\n",
    "\n",
    "# Pandas Display-Einstellungen\n",
    "pd.set_option('display.max_colwidth', 0)\n"
   ]
  },
  {
   "cell_type": "code",
   "execution_count": null,
   "metadata": {},
   "outputs": [],
   "source": [
    "# Dataset von der TIRA Plattform abrufen\n",
    "pt_dataset = pt.get_dataset('irds:ir-lab-sose-2024/ir-acl-anthology-20240504-training')\n",
    "\n",
    "# Vorverarbeitung: SnowballStemmer auf den Text anwenden\n",
    "def stem_text(text):\n",
    "    return \" \".join([stemmer.stem(word) for word in text.split()])\n",
    "\n",
    "# Iterieren über den Corpus und Texte stemmen\n",
    "processed_corpus = []\n",
    "for doc in pt_dataset.get_corpus_iter():\n",
    "    doc_id = doc['docno']\n",
    "    text = doc['text']\n",
    "    stemmed_text = stem_text(text)\n",
    "    processed_corpus.append({'docno': doc_id, 'text': stemmed_text})\n",
    "\n",
    "# Konvertieren in DataFrame\n",
    "processed_corpus_df = pd.DataFrame(processed_corpus)\n"
   ]
  },
  {
   "cell_type": "code",
   "execution_count": null,
   "metadata": {},
   "outputs": [],
   "source": [
    "# Index erstellen\n",
    "indexer = pt.IterDictIndexer(\"/tmp/index2\", overwrite=True, stemmer='none')  # Kein zusätzlicher Stemmer hier, da wir bereits gestemmt haben\n",
    "index_ref = indexer.index(processed_corpus_df.to_dict(orient='records'))\n",
    "\n",
    "# Index laden\n",
    "index = pt.IndexFactory.of(index_ref)\n",
    "\n",
    "# BM25 Retrieval Modell initialisieren\n",
    "bm25 = pt.BatchRetrieve(index, wmodel=\"BM25\")"
   ]
  },
  {
   "cell_type": "code",
   "execution_count": null,
   "metadata": {},
   "outputs": [],
   "source": [
    "#print('Now we do the retrieval...')\n",
    "run = bm25(pt_dataset.get_topics('text'))\n",
    "\n",
    "#print('Done. Here are the first 10 entries of the run')\n",
    "run.head(10)"
   ]
  },
  {
   "cell_type": "code",
   "execution_count": null,
   "metadata": {},
   "outputs": [],
   "source": [
    "# Output runfile für das Deployment auf TIRA\n",
    "persist_and_normalize_run(run, system_name='bm25-baseline', default_output='../../runs')\n"
   ]
  }
 ],
 "metadata": {
  "kernelspec": {
   "display_name": "Python 3",
   "language": "python",
   "name": "python3"
  },
  "language_info": {
   "codemirror_mode": {
    "name": "ipython",
    "version": 3
   },
   "file_extension": ".py",
   "mimetype": "text/x-python",
   "name": "python",
   "nbconvert_exporter": "python",
   "pygments_lexer": "ipython3",
   "version": "3.10.12"
  }
 },
 "nbformat": 4,
 "nbformat_minor": 2
}
